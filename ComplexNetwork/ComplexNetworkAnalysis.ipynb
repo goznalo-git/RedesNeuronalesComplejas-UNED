{
 "cells": [
  {
   "cell_type": "markdown",
   "id": "35a6c55b-e483-4982-9fc5-240839517fb3",
   "metadata": {},
   "source": [
    "# Complex Network Analysis\n",
    "\n",
    "C-elegans worm connectome dataset, found at https://manliodedomenico.com/data.php. Consists of a multilayer network with three layers and the connections therein."
   ]
  },
  {
   "cell_type": "code",
   "execution_count": 1,
   "id": "bf659bc8-dd98-4b14-a0db-81bd3fe25914",
   "metadata": {},
   "outputs": [],
   "source": [
    "import networkx as nx\n",
    "import numpy as np\n",
    "import pickle\n",
    "import matplotlib.pyplot as plt"
   ]
  },
  {
   "cell_type": "markdown",
   "id": "e2c155f0-5808-4b69-8fd2-c1e24cfba45e",
   "metadata": {},
   "source": [
    "The network data file has the notation `layer nodei nodef weight`. Knowing this we can extract the information into each of the three layers."
   ]
  },
  {
   "cell_type": "code",
   "execution_count": 2,
   "id": "164d0503-8305-49ac-8f1a-3c2a6fc18189",
   "metadata": {},
   "outputs": [],
   "source": [
    "path = 'CElegans_Multiplex_Neuronal/CElegans_Multiplex_Neuronal/Dataset/celegans_connectome_multiplex.edges'"
   ]
  },
  {
   "cell_type": "code",
   "execution_count": 3,
   "id": "edf433fb-3c72-47bb-b278-f1c832dd2b84",
   "metadata": {},
   "outputs": [],
   "source": [
    "with open(path, 'r') as f:\n",
    "    multiplex = f.readlines()\n",
    "    \n",
    "nodes = set()\n",
    "layers = set()\n",
    "edges = set()\n",
    "\n",
    "for edge in multiplex:\n",
    "    comp = edge.split(' ')\n",
    "\n",
    "    layers.add(comp[0])\n",
    "    nodes.add(comp[1])\n",
    "    nodes.add(comp[2])\n",
    "    edges.add((str(comp[0]), comp[1], comp[2], float(comp[3].replace('\\n', '')))) # remove \\n from weight"
   ]
  },
  {
   "cell_type": "code",
   "execution_count": 4,
   "id": "7947fcf4-c66a-47e1-8a7f-8b582727b51b",
   "metadata": {},
   "outputs": [
    {
     "name": "stdout",
     "output_type": "stream",
     "text": [
      "Layers, nodes, edges:  3 279 5863\n"
     ]
    }
   ],
   "source": [
    "print('Layers, nodes, edges: ', len(layers), len(nodes), len(edges))"
   ]
  },
  {
   "cell_type": "code",
   "execution_count": 5,
   "id": "7f28002f-01f8-495f-a521-210dd1133f73",
   "metadata": {},
   "outputs": [
    {
     "name": "stdout",
     "output_type": "stream",
     "text": [
      "layerID layerLabel\n",
      "1 ElectrJ\n",
      "2 MonoSyn\n",
      "3 PolySyn\n",
      "\n"
     ]
    }
   ],
   "source": [
    "with open('CElegans_Multiplex_Neuronal/CElegans_Multiplex_Neuronal/Dataset/celegans_connectome_layers.txt', 'r') as g:\n",
    "    lays = g.read()\n",
    "    print(lays)"
   ]
  },
  {
   "cell_type": "markdown",
   "id": "46c51f1b-5b4b-48ed-bb93-f4b14089a815",
   "metadata": {},
   "source": [
    "We now create each of the layers as entries in a dictionary, and save it."
   ]
  },
  {
   "cell_type": "code",
   "execution_count": 6,
   "id": "c4821653-990a-45ea-9c93-188d455fc793",
   "metadata": {},
   "outputs": [],
   "source": [
    "N = len(nodes)\n",
    "Glays = {int(m): nx.DiGraph() for m in layers}\n",
    "\n",
    "Glays['aggr'] = nx.DiGraph()\n",
    "\n",
    "for k in edges:\n",
    "    Glays[int(k[0])].add_edge(k[1], k[2], weight = k[3])\n",
    "\n",
    "    Glays['aggr'].add_edge(k[1], k[2], weight = k[3])"
   ]
  },
  {
   "cell_type": "code",
   "execution_count": 7,
   "id": "f57aec60-51ac-4e18-a20c-cb55bd547bde",
   "metadata": {},
   "outputs": [],
   "source": [
    "# Pickle the result\n",
    "dataset = 'CElegans_multiplex.pkl'\n",
    "with open(dataset, 'wb') as f:\n",
    "    pickle.dump(Glays, f)"
   ]
  },
  {
   "cell_type": "code",
   "execution_count": 8,
   "id": "c5436292-706e-4f3b-bb10-8281ce097097",
   "metadata": {},
   "outputs": [
    {
     "name": "stdout",
     "output_type": "stream",
     "text": [
      "-- 1 --\n",
      "Nodes, edges:  253 1031\n",
      "Connectivity: False False\n",
      "Clustering:  0.20236567170385777\n",
      "Diameter:  12\n",
      "-- 2 --\n",
      "Nodes, edges:  260 1639\n",
      "Connectivity: False False\n",
      "Clustering:  0.1707759073679139\n",
      "Diameter:  9\n",
      "-- 3 --\n",
      "Nodes, edges:  278 3193\n",
      "Connectivity: False True\n",
      "Clustering:  0.2722023233661824\n",
      "Diameter:  7\n",
      "-- aggr --\n",
      "Nodes, edges:  279 4577\n",
      "Connectivity: True True\n",
      "Clustering:  0.3371339990890197\n",
      "Diameter:  5\n"
     ]
    }
   ],
   "source": [
    "for i, G in Glays.items():\n",
    "    print('--', i, '--')\n",
    "    print('Nodes, edges: ', len(G.nodes), len(G.edges))\n",
    "    print('Connectivity:', nx.is_strongly_connected(G), nx.is_weakly_connected(G))\n",
    "    print('Clustering: ', nx.average_clustering(G))\n",
    "    \n",
    "    lcc = max(nx.strongly_connected_components(G), key=len)\n",
    "    S = G.subgraph(lcc).copy()\n",
    "    print('Diameter: ', nx.diameter(S))"
   ]
  },
  {
   "cell_type": "code",
   "execution_count": null,
   "id": "418fe2f0-658d-40df-9207-5dfd7ac4598f",
   "metadata": {},
   "outputs": [],
   "source": []
  }
 ],
 "metadata": {
  "kernelspec": {
   "display_name": "Python 3 (ipykernel)",
   "language": "python",
   "name": "python3"
  },
  "language_info": {
   "codemirror_mode": {
    "name": "ipython",
    "version": 3
   },
   "file_extension": ".py",
   "mimetype": "text/x-python",
   "name": "python",
   "nbconvert_exporter": "python",
   "pygments_lexer": "ipython3",
   "version": "3.10.4"
  }
 },
 "nbformat": 4,
 "nbformat_minor": 5
}
