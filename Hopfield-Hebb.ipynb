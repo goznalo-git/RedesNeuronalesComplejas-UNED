{
 "cells": [
  {
   "cell_type": "markdown",
   "id": "4156d3e7-db97-4f9c-8b3f-4789a1a55485",
   "metadata": {},
   "source": [
    "# Hopfield model with Hebb rule\n",
    "\n",
    "Based mainly on https://scholarworks.sjsu.edu/cgi/viewcontent.cgi?article=1292&context=etd_theses, we have the Hopfield model, which consists of the time evolution of patterns $xi_i$ given by\n",
    "$$\n",
    "\\xi^{new}_i = {\\rm sign} \\left(\\sum_{j=1,\\,j\\neq i}^N T_{ij} \\xi_j^{old}\\right)\n",
    "$$\n",
    "along with the Hebb rule which allows for learning $T_{ij}$ in the model as\n",
    "$$\n",
    "T_{ij} = \\sum_{s=1}^M \\xi_i^{s}\\xi_j^{s},\\, T_{ii} = 0 \\Longrightarrow  T = \\sum_{s=1}^M \\xi^{s}\\xi^{s} - M\\mathbb{I}_N\n",
    "$$"
   ]
  },
  {
   "cell_type": "code",
   "execution_count": 1,
   "id": "4f0052c6-d0d1-4319-8120-c58fa6ce9715",
   "metadata": {},
   "outputs": [],
   "source": [
    "import numpy as np\n",
    "import matplotlib.pyplot as plt"
   ]
  },
  {
   "cell_type": "code",
   "execution_count": 5,
   "id": "f6e22e8e-ef4a-4eed-a19b-d0adbfb47d2f",
   "metadata": {},
   "outputs": [
    {
     "name": "stdout",
     "output_type": "stream",
     "text": [
      "-------------\n",
      "-----###-----\n",
      "----##-##----\n",
      "---##---##---\n",
      "--##-----##--\n",
      "--#########--\n",
      "--##-----##--\n",
      "--##-----##--\n",
      "-------------\n"
     ]
    }
   ],
   "source": [
    "pattern = \"-------------\\n-----###-----\\n----##-##----\\n---##---##---\\n--##-----##--\\n--#########--\\n--##-----##--\\n--##-----##--\\n-------------\"\n",
    "\n",
    "print(pattern)"
   ]
  },
  {
   "cell_type": "code",
   "execution_count": 9,
   "id": "d9dfdf0d-3500-4090-9f0f-8c5f63f8ea1e",
   "metadata": {},
   "outputs": [
    {
     "name": "stdout",
     "output_type": "stream",
     "text": [
      "13\n"
     ]
    }
   ],
   "source": [
    "L = len(pattern.split('\\n')[0])\n",
    "print(L)"
   ]
  },
  {
   "cell_type": "code",
   "execution_count": 12,
   "id": "a91bec5b-6848-445a-80f9-41d3c80390ca",
   "metadata": {},
   "outputs": [
    {
     "name": "stdout",
     "output_type": "stream",
     "text": [
      "[-1 -1 -1 -1 -1 -1 -1 -1 -1 -1 -1 -1 -1 -1 -1 -1 -1 -1  1  1  1 -1 -1 -1\n",
      " -1 -1 -1 -1 -1 -1  1  1 -1  1  1 -1 -1 -1 -1 -1 -1 -1  1  1 -1 -1 -1  1\n",
      "  1 -1 -1 -1 -1 -1  1  1 -1 -1 -1 -1 -1  1  1 -1 -1 -1 -1  1  1  1  1  1\n",
      "  1  1  1  1 -1 -1 -1 -1  1  1 -1 -1 -1 -1 -1  1  1 -1 -1 -1 -1  1  1 -1\n",
      " -1 -1 -1 -1  1  1 -1 -1 -1 -1 -1 -1 -1 -1 -1 -1 -1 -1 -1 -1 -1]\n"
     ]
    }
   ],
   "source": [
    "def encode_pattern(pattern):\n",
    "    '''Turn the text pattern into an array of zeros and ones.'''\n",
    "    xi = []\n",
    "    for lett in pattern:\n",
    "        if lett == '-':\n",
    "            xi.append(-1)\n",
    "        elif lett == '#':\n",
    "            xi.append(+1)\n",
    "\n",
    "    return np.array(xi)\n",
    "\n",
    "xi = encode_pattern(pattern)\n",
    "print(xi)"
   ]
  },
  {
   "cell_type": "code",
   "execution_count": 13,
   "id": "e335366c-8932-4112-87f1-61923e9fe123",
   "metadata": {},
   "outputs": [
    {
     "name": "stdout",
     "output_type": "stream",
     "text": [
      "-------------\n",
      "-----###-----\n",
      "----##-##----\n",
      "---##---##---\n",
      "--##-----##--\n",
      "--#########--\n",
      "--##-----##--\n",
      "--##-----##--\n",
      "-------------\n",
      "\n"
     ]
    }
   ],
   "source": [
    "def decode_pattern(array):\n",
    "    '''Turn a zeros and ones array into a text pattern.'''\n",
    "    \n",
    "    text = ''\n",
    "    n = 0\n",
    "    \n",
    "    for num in array:\n",
    "        if num == -1:\n",
    "            text += '-'\n",
    "        elif num == +1:\n",
    "            text += '#'\n",
    "            \n",
    "        n += 1\n",
    "        if n % 13 == 0:\n",
    "            text += '\\n'\n",
    "            \n",
    "    return text\n",
    "\n",
    "text = decode_pattern(xi)\n",
    "\n",
    "print(text)"
   ]
  },
  {
   "cell_type": "code",
   "execution_count": null,
   "id": "0f353678-740e-4d9b-beea-f846f2eafe2f",
   "metadata": {},
   "outputs": [],
   "source": []
  }
 ],
 "metadata": {
  "kernelspec": {
   "display_name": "Python 3 (ipykernel)",
   "language": "python",
   "name": "python3"
  },
  "language_info": {
   "codemirror_mode": {
    "name": "ipython",
    "version": 3
   },
   "file_extension": ".py",
   "mimetype": "text/x-python",
   "name": "python",
   "nbconvert_exporter": "python",
   "pygments_lexer": "ipython3",
   "version": "3.10.4"
  }
 },
 "nbformat": 4,
 "nbformat_minor": 5
}
