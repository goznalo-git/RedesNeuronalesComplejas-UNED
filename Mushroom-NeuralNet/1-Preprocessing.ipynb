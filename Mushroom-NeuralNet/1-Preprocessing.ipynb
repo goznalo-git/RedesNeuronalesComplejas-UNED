{
 "cells": [
  {
   "cell_type": "markdown",
   "id": "0bed61c8-7da4-4c8e-9bd4-93e915b86648",
   "metadata": {},
   "source": [
    "# Mushroom classification - Part I: Preprocessing"
   ]
  },
  {
   "cell_type": "code",
   "execution_count": 1,
   "id": "25d0f5c9-7c94-4f63-9b12-219396a70e4e",
   "metadata": {},
   "outputs": [],
   "source": [
    "import pandas as pd\n",
    "import numpy as np\n",
    "import random\n",
    "from sklearn.preprocessing import OneHotEncoder, LabelBinarizer\n",
    "from sklearn.model_selection import train_test_split"
   ]
  },
  {
   "cell_type": "markdown",
   "id": "0cb132bf-0e63-4f86-bec2-0eb61abdf3aa",
   "metadata": {},
   "source": [
    "We create an initial random seed, for reproducibility purposes."
   ]
  },
  {
   "cell_type": "code",
   "execution_count": 2,
   "id": "a3426d87-c34a-415b-842e-57261de2771e",
   "metadata": {},
   "outputs": [],
   "source": [
    "num = 5 \n",
    "random.seed(num)"
   ]
  },
  {
   "cell_type": "code",
   "execution_count": 3,
   "id": "2851d743-db92-45df-8274-67e0cf699e20",
   "metadata": {},
   "outputs": [
    {
     "data": {
      "text/plain": [
       "Index(['class', 'cap-shape', 'cap-surface', 'cap-color', 'bruises', 'odor',\n",
       "       'gill-attachment', 'gill-spacing', 'gill-size', 'gill-color',\n",
       "       'stalk-shape', 'stalk-surface-above-ring', 'stalk-surface-below-ring',\n",
       "       'stalk-color-above-ring', 'stalk-color-below-ring', 'veil-type',\n",
       "       'veil-color', 'ring-number', 'ring-type', 'spore-print-color',\n",
       "       'population', 'habitat'],\n",
       "      dtype='object')"
      ]
     },
     "execution_count": 3,
     "metadata": {},
     "output_type": "execute_result"
    }
   ],
   "source": [
    "df = pd.read_csv('mushrooms_traintest.csv')\n",
    "df.pop('stalk-root')\n",
    "df.columns"
   ]
  },
  {
   "cell_type": "markdown",
   "id": "617fe5dd-f039-48e0-b730-508f5e1892a8",
   "metadata": {},
   "source": [
    "### Features vs classes"
   ]
  },
  {
   "cell_type": "markdown",
   "id": "cba303ca-2964-402a-9713-2d6700593693",
   "metadata": {},
   "source": [
    "We now want to separate the data into the input features and the output classes. We also convert the classes into binary, as there can only be poisonous or edible."
   ]
  },
  {
   "cell_type": "code",
   "execution_count": 4,
   "id": "dbbde80d-e43b-46e4-ba48-20ff0bc9aa79",
   "metadata": {},
   "outputs": [],
   "source": [
    "df_class = df.pop('class')\n",
    "df_class = LabelBinarizer().fit_transform(df_class)"
   ]
  },
  {
   "cell_type": "markdown",
   "id": "5e3f646d-d547-4acd-94ec-762cdb242ecb",
   "metadata": {},
   "source": [
    "### Train vs test\n",
    "\n",
    "We will now separate the dataset into 75% of the entries (training) and 25% of them (test). Here we give the function the random seed generated earlier, as we shuffle the data before the split."
   ]
  },
  {
   "cell_type": "code",
   "execution_count": 5,
   "id": "9a0d49dc-4e7e-4ea7-bcdb-5a5aa8c556aa",
   "metadata": {},
   "outputs": [],
   "source": [
    "train_df, test_df, train_class, test_class = train_test_split(df, df_class, test_size=0.25, random_state=num, shuffle = True)"
   ]
  },
  {
   "cell_type": "markdown",
   "id": "fddd47a2-97ed-471d-8d0b-64542a4ea1aa",
   "metadata": {},
   "source": [
    "## Encodings\n",
    "As we can see in the preview and from the attributes.txt file, the data is categorical, with some particular labels. Therefore, the first thing we have to do is transforming it into numerical values. The OneHotEncoder function from sklearn is the perfect fit here. "
   ]
  },
  {
   "cell_type": "code",
   "execution_count": 6,
   "id": "aceb49da-2305-4bf8-8c4d-a2c1e460fc6c",
   "metadata": {},
   "outputs": [],
   "source": [
    "OHE = OneHotEncoder().fit(df)\n",
    "\n",
    "train_df = OHE.transform(train_df)\n",
    "test_df = OHE.transform(test_df)"
   ]
  },
  {
   "cell_type": "markdown",
   "id": "844d4abe-9090-490f-bab7-6a725600f58b",
   "metadata": {},
   "source": [
    "## Saving for later\n",
    "\n",
    "We now save the results to a file, to be loaded and processed in the next notebook. "
   ]
  },
  {
   "cell_type": "code",
   "execution_count": 7,
   "id": "59ce4142-b2bb-4aba-a7d6-1edb2accf161",
   "metadata": {},
   "outputs": [],
   "source": [
    "with open('train.npy', 'wb') as f:\n",
    "    np.save(f, train_df.todense())\n",
    "    np.save(f, train_class)"
   ]
  },
  {
   "cell_type": "code",
   "execution_count": 8,
   "id": "a2d48ee3-5a51-44af-a254-83c5295a1050",
   "metadata": {},
   "outputs": [],
   "source": [
    "with open('test.npy', 'wb') as g:\n",
    "    np.save(g, test_df.todense())\n",
    "    np.save(g, test_class)"
   ]
  },
  {
   "cell_type": "code",
   "execution_count": null,
   "id": "9557f38f-9b0e-46b6-8341-57f456d133c5",
   "metadata": {},
   "outputs": [],
   "source": []
  }
 ],
 "metadata": {
  "kernelspec": {
   "display_name": "Python 3 (ipykernel)",
   "language": "python",
   "name": "python3"
  },
  "language_info": {
   "codemirror_mode": {
    "name": "ipython",
    "version": 3
   },
   "file_extension": ".py",
   "mimetype": "text/x-python",
   "name": "python",
   "nbconvert_exporter": "python",
   "pygments_lexer": "ipython3",
   "version": "3.10.4"
  }
 },
 "nbformat": 4,
 "nbformat_minor": 5
}
