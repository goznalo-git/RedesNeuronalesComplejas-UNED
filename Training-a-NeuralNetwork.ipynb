{
 "cells": [
  {
   "cell_type": "markdown",
   "id": "50ae3e18-37a9-4751-9cad-51c1a923dade",
   "metadata": {},
   "source": [
    "# Training a Neural Network \n",
    "\n",
    "We will create a neural network to analyze a real-world dataset."
   ]
  },
  {
   "cell_type": "code",
   "execution_count": null,
   "id": "4388f7e7-9547-449d-b7b9-da41dc4b8154",
   "metadata": {},
   "outputs": [],
   "source": []
  }
 ],
 "metadata": {
  "kernelspec": {
   "display_name": "Python 3 (ipykernel)",
   "language": "python",
   "name": "python3"
  },
  "language_info": {
   "codemirror_mode": {
    "name": "ipython",
    "version": 3
   },
   "file_extension": ".py",
   "mimetype": "text/x-python",
   "name": "python",
   "nbconvert_exporter": "python",
   "pygments_lexer": "ipython3",
   "version": "3.10.4"
  }
 },
 "nbformat": 4,
 "nbformat_minor": 5
}
